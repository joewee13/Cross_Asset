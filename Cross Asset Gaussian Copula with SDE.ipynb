{
 "cells": [
  {
   "attachments": {},
   "cell_type": "markdown",
   "metadata": {},
   "source": [
    "# Cross asset pricing with Gaussian Copula and SDE"
   ]
  },
  {
   "cell_type": "code",
   "execution_count": 1,
   "metadata": {},
   "outputs": [],
   "source": [
    "import numpy as np\n",
    "from scipy.stats import norm\n",
    "\n"
   ]
  },
  {
   "attachments": {},
   "cell_type": "markdown",
   "metadata": {},
   "source": [
    "This notebook demonstrates how to use the Gaussian copula and stochastic differential equations (SDE) to price cross assets. "
   ]
  },
  {
   "attachments": {},
   "cell_type": "markdown",
   "metadata": {},
   "source": [
    "In this example, we assume two correlated assets and specify the correlation matrix, volatilities, initial prices, risk-free rate, and time to maturity. We then generate random samples from the standard normal distribution and transform them using the inverse transform method to obtain correlated samples. These samples are then used to simulate asset prices based on the SDE. Finally, we calculate the price of a derivative based on the simulated asset prices."
   ]
  },
  {
   "cell_type": "code",
   "execution_count": 5,
   "metadata": {},
   "outputs": [],
   "source": [
    "# Define parameters\n",
    "num_assets = 2\n",
    "correlation_matrix = np.array([[1.0, 0.5], [0.5, 1.0]])\n",
    "volatilities = np.array([0.2, 0.3])\n",
    "initial_prices = np.array([100.0, 50.0])\n",
    "risk_free_rate = 0.05\n",
    "time_to_maturity = 1\n",
    "\n",
    "# Generate random samples from the standard normal distribution\n",
    "num_samples = 10000\n",
    "np.random.seed(0)\n",
    "u1 = norm.ppf(np.random.rand(num_samples))\n",
    "u2 = norm.ppf(np.random.rand(num_samples))\n",
    "\n",
    "# Apply the inverse transform to obtain correlated samples\n",
    "z1 = u1\n",
    "z2 = correlation_matrix[0, 1] * u1 + np.sqrt(1 - correlation_matrix[0, 1]**2) * u2\n",
    "\n"
   ]
  },
  {
   "cell_type": "code",
   "execution_count": 11,
   "metadata": {},
   "outputs": [],
   "source": [
    "# Convert correlated samples to asset prices using SDE\n",
    "drifts = (risk_free_rate - 0.5 * volatilities**2) * time_to_maturity\n",
    "increment = (volatilities * np.sqrt(time_to_maturity))\n",
    "increments = [i* increment for i in z1]\n"
   ]
  },
  {
   "cell_type": "code",
   "execution_count": 30,
   "metadata": {},
   "outputs": [],
   "source": [
    "prices = initial_prices * np.exp(drifts[:, np.newaxis] + np.array(increments)[:, np.newaxis])\n",
    "\n"
   ]
  },
  {
   "cell_type": "code",
   "execution_count": 31,
   "metadata": {},
   "outputs": [
    {
     "name": "stdout",
     "output_type": "stream",
     "text": [
      "Cross Asset Price: 1.861812402777809\n"
     ]
    }
   ],
   "source": [
    "# Calculate the price of a derivative based on the simulated asset prices\n",
    "derivative_payoff = np.maximum(prices[:, 0] - prices[:, 1], 0)\n",
    "discounted_payoff = np.exp(-risk_free_rate * time_to_maturity) * derivative_payoff\n",
    "price = np.mean(discounted_payoff)\n",
    "\n",
    "print(\"Cross Asset Price:\", price)\n"
   ]
  },
  {
   "cell_type": "code",
   "execution_count": null,
   "metadata": {},
   "outputs": [],
   "source": []
  }
 ],
 "metadata": {
  "kernelspec": {
   "display_name": "base",
   "language": "python",
   "name": "python3"
  },
  "language_info": {
   "codemirror_mode": {
    "name": "ipython",
    "version": 3
   },
   "file_extension": ".py",
   "mimetype": "text/x-python",
   "name": "python",
   "nbconvert_exporter": "python",
   "pygments_lexer": "ipython3",
   "version": "3.9.13"
  },
  "orig_nbformat": 4
 },
 "nbformat": 4,
 "nbformat_minor": 2
}
